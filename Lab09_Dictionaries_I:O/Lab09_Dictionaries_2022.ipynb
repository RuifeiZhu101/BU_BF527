{
 "cells": [
  {
   "cell_type": "markdown",
   "metadata": {},
   "source": [
    "# Lab 09\n",
    "# Dictionaries & File Input/Output\n",
    "\n",
    "Today we will learn about a new object in Python called a dictionary. A dictionary is a data object much like a list or a string. However, whereas a list stores ordered information, a dictionary stores information as key‐value pairs, much like the words and definitions in a real dictionary. You will learn how to initialize, add to, and look through dictionaries. You will also learn how to open, read, and write to files within a Python script.\n",
    "\n",
    "You will write the script yourself by following the code written in this document.  As often, small misteiks are introduced in the scripts.  You need to correct them to run the code.\n",
    "\n",
    "REMEMBER, THE INTERNET IS YOUR FRIEND: https://docs.python.org/3.7/tutorial/"
   ]
  },
  {
   "cell_type": "markdown",
   "metadata": {},
   "source": [
    "Part A: Dictionaries\n",
    "\n",
    "A dictionary is a mapping of key‐value pairs. Dictionaries are indexed by keys, which can be any immutable (i.e. unchangeable) type of data: e.g. strings and numbers. A list cannot be a key for a dictionary, because lists can be modified. In this way, dictionaries in Python are much like dictionaries in real life: there is one specific key (e.g. a word) which is associated with a value (e.g. a definition). However, in Python dictionaries are unordered sets of key‐value pairs. Additionally, the keys must be unique, i.e. if you assign a value to a key that already exists and has a key‐value pair, the old value will be overwritten. However, the values of a dictionary can be anything – i.e. a string, a number, a list, or even another dictionary! Let’s create and initialize a dictionary."
   ]
  },
  {
   "cell_type": "code",
   "execution_count": 1,
   "metadata": {},
   "outputs": [
    {
     "name": "stdout",
     "output_type": "stream",
     "text": [
      "{'Frodo': 50, 'Gandalf': 2000, 'Aragorn': 87}\n",
      "3\n",
      "dict_keys(['Frodo', 'Gandalf', 'Aragorn'])\n",
      "2000\n"
     ]
    }
   ],
   "source": [
    "#!/usr/bin/python\n",
    "\n",
    "#whereas lists are declared with square brackets: []\n",
    "#dictionaries are declared with curly braces: {}\n",
    "dict = {}         #empty dictionary\n",
    "\n",
    "#use (:) to denote key:value pairs, and (,) to separate pairs\n",
    "#this dictionary lists the ages of characters by their names\n",
    "ages = {'Frodo':50, 'Gandalf':2000, 'Aragorn':87}\n",
    "print (ages)  #prints dictionary\n",
    "print (len(ages)) #prints number of keys\n",
    "print (ages.keys())  #prints keys, i.e. names\n",
    "print (ages['Gandalf'])  #prints Gandalf's age"
   ]
  },
  {
   "cell_type": "code",
   "execution_count": 2,
   "metadata": {},
   "outputs": [
    {
     "name": "stdout",
     "output_type": "stream",
     "text": [
      "Dictionary with Gandalf deleted:  {'Frodo': 53, 'Aragorn': 87, 'Legolas': 800}\n"
     ]
    }
   ],
   "source": [
    "#adding and updating the dictionary\n",
    "ages['Legolas'] = 800  #add a new item to the dictionary\n",
    "ages['Frodo'] += 3  #change a value; Frodo ages 3 years\n",
    "del ages['Gandalf']  #deletes a key-value pair\n",
    "print (\"Dictionary with Gandalf deleted: \", ages)\n"
   ]
  },
  {
   "cell_type": "code",
   "execution_count": 4,
   "metadata": {},
   "outputs": [
    {
     "name": "stdout",
     "output_type": "stream",
     "text": [
      "\n",
      "The entire \"fancy\" dictionary: \n",
      " {'Frodo': 'Baggins', 'Middle-earth': ['Isengard', 'Moria', 'Rivendell', 'Shire'], 'Colors': {'Red': '#FF0000', 'Blue': (0, 0, 255)}}\n"
     ]
    }
   ],
   "source": [
    "#NOTE: you can only change the value of an existing key\n",
    "#i.e. the following will not work: ages['Vader'] += 1\n",
    "#because 'Vader' does not exist in the dictionary yet\n",
    "#keys can only be immutable (i.e. a string, number, etc.)\n",
    "#values can be anything, even other dictionaries!\n",
    "\n",
    "#fancy dictionary with strings and lists as values\n",
    "fancy = {'Frodo':'Baggins', 'Middle-earth':['Isengard','Moria', 'Rivendell', 'Shire']}\n",
    "#note the syntax of assigning a list as a value to a dictionary\n",
    "fancy['Colors'] = {'Red':'#FF0000', 'Blue':(0,0,255)}\n",
    "# note a rare case of using both single and double quotes\n",
    "print ('\\nThe entire \"fancy\" dictionary: \\n', fancy)\n"
   ]
  },
  {
   "cell_type": "code",
   "execution_count": 5,
   "metadata": {},
   "outputs": [
    {
     "name": "stdout",
     "output_type": "stream",
     "text": [
      "\n",
      "Name ( Age )\n",
      "Frodo ( 53 )\n",
      "Aragorn ( 87 )\n",
      "Legolas ( 800 )\n"
     ]
    }
   ],
   "source": [
    "#looping through dictionaries\n",
    "#use brackets [] to access the value of a key\n",
    "print ('\\nName ( Age )')\n",
    "for name in ages:\n",
    "      print (name, '(', ages[name], ')')"
   ]
  },
  {
   "cell_type": "markdown",
   "metadata": {},
   "source": [
    "Part B: opening and writing to files\n",
    "\n",
    "We can use the function open to open existing files, and to create new file. We can create a new type of object, file, which is a reference to physical information on the hard disk; this is also known as a “file handle”. The function open takes one required argument (the file name), and an optional argument dictating what will be done with the file. The option ‘r’ is for reading information from a file, ‘w’ is for writing to a file (this will overwrite an existing file if used), and ‘a’ is for appending to a file (adding more lines to an existing file)."
   ]
  },
  {
   "cell_type": "code",
   "execution_count": 11,
   "metadata": {},
   "outputs": [],
   "source": [
    "#create a new file. A file handle is used to access the file object.\n",
    "handle = open('new_file.txt', 'w')\n",
    "\n",
    "#handle represents the file object, and has file methods\n",
    "#the write() method will write to a file\n",
    "#note: write() is a lot like print, but it will NOT add a newline\n",
    "#use \\n to add a newline (enter) after each line\n",
    "handle.write('My FIRST line of text! \\n')\n",
    "handle.write('My SECOND line of text! \\n')\n",
    "handle.write('My THIRD line of text! \\n')\n",
    "handle.close()    #close the file in order to access it\n",
    "\n",
    "#If you look at the file now, you should have 3 lines\n",
    "#trying to write again (handle.write('FOURTH LINE!') will not work"
   ]
  },
  {
   "cell_type": "code",
   "execution_count": 7,
   "metadata": {},
   "outputs": [
    {
     "ename": "ValueError",
     "evalue": "I/O operation on closed file.",
     "output_type": "error",
     "traceback": [
      "\u001b[0;31m---------------------------------------------------------------------------\u001b[0m",
      "\u001b[0;31mValueError\u001b[0m                                Traceback (most recent call last)",
      "Input \u001b[0;32mIn [7]\u001b[0m, in \u001b[0;36m<cell line: 1>\u001b[0;34m()\u001b[0m\n\u001b[0;32m----> 1\u001b[0m \u001b[43mhandle\u001b[49m\u001b[38;5;241;43m.\u001b[39;49m\u001b[43mwrite\u001b[49m\u001b[43m(\u001b[49m\u001b[38;5;124;43m'\u001b[39;49m\u001b[38;5;124;43mFOURTH LINE!\u001b[39;49m\u001b[38;5;124;43m'\u001b[39;49m\u001b[43m)\u001b[49m\n",
      "\u001b[0;31mValueError\u001b[0m: I/O operation on closed file."
     ]
    }
   ],
   "source": [
    "handle.write('FOURTH LINE!')"
   ]
  },
  {
   "cell_type": "markdown",
   "metadata": {},
   "source": [
    "Part C: reading files\n",
    "\n",
    "Now that we’ve looked at opening and writing files, let’s work on reading the information from existing files. In order to read information from a file, that file has to exist (i.e. we cannot read information from a file that has not been created). We also need to open the file in order to access the information."
   ]
  },
  {
   "cell_type": "code",
   "execution_count": 8,
   "metadata": {},
   "outputs": [
    {
     "name": "stdout",
     "output_type": "stream",
     "text": [
      "My SECOND line of text! \n",
      "\n",
      "My THIRD line of text! \n",
      "is my favorite\n",
      "My THIRD line of text! is my favorite again\n"
     ]
    }
   ],
   "source": [
    "#open the file we just created, to read\n",
    "#we can also just use open('new_file.txt'); the default is to read\n",
    "readIt = open('new_file.txt', 'r')\n",
    "\n",
    "#we can use readline() to read each line individually\n",
    "#when reading a file, we cannot see what is being read\n",
    "#unless we print the line or save it to a variable\n",
    "readIt.readline()  # first line, can't see it\n",
    "print (readIt.readline())  # second line, can see it\n",
    "saveIt = readIt.readline()  # third line, saved\n",
    "# do not forget to ALWAYS include a statement to close a file to avoid memory leaks\n",
    "readIt.close()\n",
    "\n",
    "print (saveIt + 'is my favorite')    # note the newline\n",
    "#we can use strip() to remove the terminal newline\n",
    "print (saveIt.strip() + ' is my favorite again')"
   ]
  },
  {
   "cell_type": "code",
   "execution_count": 9,
   "metadata": {},
   "outputs": [
    {
     "name": "stdout",
     "output_type": "stream",
     "text": [
      "Line # 1 :  My FIRST line of text!\n",
      "Line # 2 :  My SECOND line of text!\n",
      "Line # 3 :  My THIRD line of text!\n"
     ]
    }
   ],
   "source": [
    "#we can also use a for loop to read in the contents of a file\n",
    "#here we read in the file using the default read ('r')\n",
    "readItAll = open('new_file.txt')\n",
    "counter = 1\n",
    "for line in readItAll:\n",
    "      print ('Line #', counter, ': ', line.strip())\n",
    "      counter += 1"
   ]
  },
  {
   "cell_type": "markdown",
   "metadata": {},
   "source": [
    "#### Questions for the scripts:\n",
    "1. What is ages['Frodo']? \n",
    "2. What is the recurrent bug introduced in the scripts?\n",
    "3. What is (0,0,255) and #FF0000?\n",
    "\n",
    "Please give the answers in the cell below."
   ]
  },
  {
   "cell_type": "raw",
   "metadata": {},
   "source": [
    "1.53\n",
    "2.SyntaxError. Missing or putting quotation marks in wrong places.\n",
    "3.Color numbers or color codes."
   ]
  },
  {
   "cell_type": "code",
   "execution_count": 13,
   "metadata": {},
   "outputs": [
    {
     "name": "stdout",
     "output_type": "stream",
     "text": [
      "simple printing of an array element\n",
      "1\n",
      "1\n",
      "2\n",
      "3\n",
      "5\n",
      "\n",
      "Using plus-equal (+=) to print sum of numbers\n",
      "1\n",
      "2\n",
      "4\n",
      "7\n",
      "12\n",
      "12.7\n",
      "\n",
      "Using plus-equal (+=) to append a string\n",
      "B\n",
      "BF\n",
      "BF5\n",
      "BF52\n",
      "BF527\n"
     ]
    }
   ],
   "source": [
    "##########################################\n",
    "# Using plus-equal for numbers AND strings\n",
    "##########################################\n",
    "\n",
    "print(\"simple printing of an array element\")\n",
    "for i in [1,1,2,3,5]:\n",
    "    print(i)\n",
    "print()\n",
    "\n",
    "print(\"Using plus-equal (+=) to print sum of numbers\")\n",
    "sum_of_numbers =0\n",
    "for i in [1,1,2,3,5,0.7]:\n",
    "    sum_of_numbers +=i\n",
    "    print(sum_of_numbers)\n",
    "print()\n",
    "\n",
    "print(\"Using plus-equal (+=) to append a string\")\n",
    "my_string = ''\n",
    "for i in ['B','F','5','2','7']:\n",
    "    my_string +=i\n",
    "    print(my_string)"
   ]
  },
  {
   "cell_type": "markdown",
   "metadata": {},
   "source": [
    "BACKGROUND: The FASTA file format (pronounced “fast‐A”; stands for “fast all”) is a common mode for storing DNA and protein sequence information. A FASTA file containing three sequences looks like this:"
   ]
  },
  {
   "cell_type": "raw",
   "metadata": {},
   "source": [
    ">sp|P02144|MYG_HUMAN Myoglobin OS=Homo sapiens GN=MB PE=1 SV=2 MGLSDGEWQLVLNVWGKVEADIPGHGQEVLIRLFKGHPETLEKFDKFKHLKSEDEMKASE\n",
    "DLKKHGATVLTALGGILKKKGHHEAEIKPLAQSHATKHKIPVKYLEFISECIIQVLQSKH \n",
    "PGDFGADAQGAMNKALELFRKDMASNYKELGFQG\n",
    ">sp|P02189|MYG_PIG Myoglobin OS=Sus scrofa GN=MB PE=1 SV=2 MGLSDGEWQLVLNVWGKVEADVAGHGQEVLIRLFKGHPETLEKFDKFKHLKSEDEMKASE DLKKHGNTVLTALGGILKKKGHHEAELTPLAQSHATKHKIPVKYLEFISEAIIQVLQSKH \n",
    "PGDFGADAQGAMSKALELFRNDMAAKYKELGFQG\n",
    ">sp|P04247|MYG_MOUSE Myoglobin OS=Mus musculus GN=Mb PE=1 SV=3 MGLSDGEWQLVLNVWGKVEADLAGHGQEVLIGLFKTHPETLDKFDKFKNLKSEEDMKGSE DLKKHGCTVLTALGTILKKKGQHAAEIQPLAQSHATKHKIPVKYLEFISEIIIEVLKKRH \n",
    "SGDFGADAQGAMSKALELFRNDIAAKYKELGFQG"
   ]
  },
  {
   "cell_type": "markdown",
   "metadata": {},
   "source": [
    "Each sequence is preceded by a line starting with “>” that contains header information: e.g., identification numbers for this sequence, the name of the sequence, and the organism from which it is derived, etc. All remaining lines store continuous sequence information. When it comes time to manipulate the sequence within a program, it is usually convenient to have it stored as a single string (rather than split across lines)."
   ]
  },
  {
   "cell_type": "markdown",
   "metadata": {},
   "source": [
    "LAB TASK: Implement a program in python that will open a FASTA file, concatenate its multiline sequences into single strings, store them in a dictionary using the sequence ID from the sequence header (value between the “|” symbols) as a key, and then print the IDs and sequences as two columns in a new file.\n",
    "\n",
    "OBJECTIVE(S):"
   ]
  },
  {
   "cell_type": "markdown",
   "metadata": {},
   "source": [
    "1. Write your code in the block below. Download the file called ‘myoglobin.fasta’ from Blackboard, and make sure to save it in the same location as your lab task script.\n",
    "2. Create an empty dictionary to store sequence information.\n",
    "3. Using the open function, open the FASTA file (‘myoglobin.fasta’).\n",
    "4. When you find a line beginning with the “>” character (a header) extract the ID code between the “|” symbols and start a new dictionary entry using the ID as a key.\n",
    "5. If a line isn’t a header (i.e. it is a sequence), strip off the newline character at the end and append the sequence to a growing string (to the growing sequence that is the dictionary value) stored within the most recent dictionary key.\n",
    "6. Close the original file.\n",
    "7. Open a new file for writing, e.g. “myoglobin_processed.txt”.\n",
    "8. Loop through the dictionary and write the ID keys and their corresponding sequences to the new file, separating them with a tab (‘\\t’) to generate two columns.\n",
    "9. Close the new file.\n",
    "10. Run your script. Upload the script and output (‘myoglobin_processed.txt’) to Blackboard for lab credit. Don’t forget comments!\n",
    "\n",
    "Your output for two sequences should look like this (note how the sequence now is a single string):\n",
    "\n",
    "P02189\tMGLSDGEWQLVLNVWGKVEADVAGHGQEVLIRLFKGHPETLEKFDKFKHLKSEDEMKASEDLKKHGNTVLTALGGILKKKGHHEAELTPLAQSHATKHKIPVKYLEFISEAIIQVLQSKHPGDFGADAQGAMSKALELFRNDMAAKYKELGFQG\n",
    "\n",
    "P04247 MGLSDGEWQLVLNVWGKVEADLAGHGQEVLIGLFKTHPETLDKFDKFKNLKSEEDMKGSEDLKKHGCTVLTALGTILKKKGQHAAEIQPLAQSHATKHKIPVKYLEFISEIIIEVLKKRHSGDFGADAQGAMSKALELFRNDIAAKYKELGFQG"
   ]
  },
  {
   "cell_type": "code",
   "execution_count": 3,
   "metadata": {},
   "outputs": [
    {
     "name": "stdout",
     "output_type": "stream",
     "text": [
      "{'P02192': 'MGLSDGEWQLVLNAWGKVEADVAGHGQEVLIRLFTGHPETLEKFDKFKHLKTEAEMKASEDLKKHGNTVLTALGGILKKKGHHEAEVKHLAESHANKHKIPVKYLEFISDAIIHVLHAKHPSDFGADAQAAMSKALELFRNDMAAQYKVLGFHG', 'P02189': 'MGLSDGEWQLVLNVWGKVEADVAGHGQEVLIRLFKGHPETLEKFDKFKHLKSEDEMKASEDLKKHGNTVLTALGGILKKKGHHEAELTPLAQSHATKHKIPVKYLEFISEAIIQVLQSKHPGDFGADAQGAMSKALELFRNDMAAKYKELGFQG', 'P02144': 'MGLSDGEWQLVLNVWGKVEADIPGHGQEVLIRLFKGHPETLEKFDKFKHLKSEDEMKASEDLKKHGATVLTALGGILKKKGHHEAEIKPLAQSHATKHKIPVKYLEFISECIIQVLQSKHPGDFGADAQGAMNKALELFRKDMASNYKELGFQG', 'P68082': 'MGLSDGEWQQVLNVWGKVEADIAGHGQEVLIRLFTGHPETLEKFDKFKHLKTEAEMKASEDLKKHGTVVLTALGGILKKKGHHEAELKPLAQSHATKHKIPIKYLEFISDAIIHVLHSKHPGDFGADAQGAMTKALELFRNDIAAKYKELGFQG', 'P04247': 'MGLSDGEWQLVLNVWGKVEADLAGHGQEVLIGLFKTHPETLDKFDKFKNLKSEEDMKGSEDLKKHGCTVLTALGTILKKKGQHAAEIQPLAQSHATKHKIPVKYLEFISEIIIEVLKKRHSGDFGADAQGAMSKALELFRNDIAAKYKELGFQG', 'P02197': 'MGLSDQEWQQVLTIWGKVEADIAGHGHEVLMRLFHDHPETLDRFDKFKGLKTPDQMKGSEDLKKHGATVLTQLGKILKQKGNHESELKPLAQTHATKHKIPVKYLEFISEVIIKVIAEKHAADFGADSQAAMKKALELFRNDMASKYKEFGFQG'}\n"
     ]
    }
   ],
   "source": [
    "#Write your python task code here\n",
    "\n",
    "#Create an empty dictionary to store sequence information\n",
    "my_dic = {}\n",
    "#initialize variables to store ID and Sequence\n",
    "ID =''\n",
    "\n",
    "#open the FASTA file and read it \n",
    "file=open('myoglobin.fasta')\n",
    "save_file = file.readlines() #read lines in file and save it \n",
    "#print(save_file)\n",
    "#close the original file\n",
    "file.close()\n",
    "\n",
    "#loop through the saved file\n",
    "for line in save_file:\n",
    "    #if the line is a header\n",
    "    if line[0]==\">\":\n",
    "        #extract the ID \n",
    "        ID = line.split('|') [1]\n",
    "        my_dic[ID]=''\n",
    "        \n",
    "    else: #if the line isn't a header\n",
    "        #strip off the newline character at the end and append the sequence\n",
    "        #to a growing string stored within the most recent dictionary key.\n",
    "        my_dic[ID]+= line.strip()\n",
    "        \n",
    "\n",
    "print(my_dic)\n",
    "\n",
    "#Open a new file for writing\n",
    "new_file=open('myoglobin_processed.txt','w')\n",
    "\n",
    "#Loop through the dictionary and write the ID keys and their corresponding sequences to the new file\n",
    "#separating them with a tab (‘\\t’) to generate two columns.\n",
    "for key in my_dic:\n",
    "    new_file.write(key+'\\t'+my_dic[key]+'\\n')\n",
    "    \n",
    "#Close the new file.\n",
    "new_file.close()"
   ]
  },
  {
   "cell_type": "code",
   "execution_count": null,
   "metadata": {},
   "outputs": [],
   "source": []
  }
 ],
 "metadata": {
  "anaconda-cloud": {},
  "kernelspec": {
   "display_name": "Python 3 (ipykernel)",
   "language": "python",
   "name": "python3"
  },
  "language_info": {
   "codemirror_mode": {
    "name": "ipython",
    "version": 3
   },
   "file_extension": ".py",
   "mimetype": "text/x-python",
   "name": "python",
   "nbconvert_exporter": "python",
   "pygments_lexer": "ipython3",
   "version": "3.9.13"
  }
 },
 "nbformat": 4,
 "nbformat_minor": 4
}
