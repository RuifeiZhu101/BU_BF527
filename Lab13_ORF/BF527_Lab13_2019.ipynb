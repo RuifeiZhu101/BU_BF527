{
 "cells": [
  {
   "cell_type": "markdown",
   "metadata": {},
   "source": [
    "# BF527 Lab 13\n",
    "\n",
    "## Open Reading Frames and Virtual Ribosome"
   ]
  },
  {
   "cell_type": "markdown",
   "metadata": {},
   "source": [
    "## Background \n",
    "Given a DNA coding sequence, we often want to see the corresponding protein sequence that it represents. We can do this by building a python program to translate the DNA sequence codon‐by‐codon into a protein (amino acid) sequence, somewhat like a \"virtual ribosome.\" Such a program can also be useful for gene finding; we can translate a given DNA sequence in all six possible reading frames and look for an open reading frame (ORF). Recall from the lecture that an ORF is a stretch of DNA sequence that begins with a start/methionine codon (ATG), proceeds for some significant length without a stop codon (UAA, UAG, UGA), and then finally terminates with a stop codon."
   ]
  },
  {
   "cell_type": "markdown",
   "metadata": {},
   "source": [
    "## Task \n",
    "Build a virtual ribosome program that will translate the three positive reading frames of a given DNA sequence. Find the true reading frame and identify the corresponding protein using BLAST."
   ]
  },
  {
   "cell_type": "markdown",
   "metadata": {},
   "source": [
    "### Part A: Load the DNA sequence\n",
    "\n",
    "In order to use a script to translate the DNA sequence into an amino acid sequence, first we need to load the sequence. The DNA sequence is provided for you in FASTA format as part of the BF527 Lab 13 materials on `scc2` (`dna.fasta`). If you followed the instructions, this file should be in the same directory as the current notebook.\n",
    "\n",
    "Write python code to read in the `dna.fasta` file and create a variable that contains the concatenated DNA sequence as a string. You may use or adapt your solution from BF527 Lab 9 to do this. "
   ]
  },
  {
   "cell_type": "code",
   "execution_count": 1,
   "metadata": {},
   "outputs": [],
   "source": [
    "import colorama\n",
    "from colorama import Fore\n",
    "def get_color(dna):\n",
    "    console_colors = {'A' : Fore.BLUE, 'C' : Fore.RED, 'G' : Fore.GREEN, 'T' : Fore.BLACK}\n",
    "    colored_dna=''\n",
    "    for nt in dna: \n",
    "        colored_dna += console_colors[nt] + nt\n",
    "    print(colored_dna)"
   ]
  },
  {
   "cell_type": "code",
   "execution_count": 2,
   "metadata": {
    "tags": []
   },
   "outputs": [
    {
     "name": "stdout",
     "output_type": "stream",
     "text": [
      "\u001b[31mC\u001b[30mT\u001b[34mA\u001b[32mG\u001b[32mG\u001b[31mC\u001b[30mT\u001b[34mA\u001b[34mA\u001b[30mT\u001b[32mG\u001b[31mC\u001b[34mA\u001b[34mA\u001b[34mA\u001b[30mT\u001b[30mT\u001b[30mT\u001b[30mT\u001b[30mT\u001b[32mG\u001b[30mT\u001b[31mC\u001b[34mA\u001b[34mA\u001b[32mG\u001b[34mA\u001b[31mC\u001b[30mT\u001b[30mT\u001b[30mT\u001b[32mG\u001b[34mA\u001b[31mC\u001b[30mT\u001b[32mG\u001b[32mG\u001b[30mT\u001b[34mA\u001b[34mA\u001b[32mG\u001b[34mA\u001b[31mC\u001b[31mC\u001b[34mA\u001b[30mT\u001b[31mC\u001b[34mA\u001b[31mC\u001b[30mT\u001b[30mT\u001b[30mT\u001b[32mG\u001b[32mG\u001b[34mA\u001b[34mA\u001b[32mG\u001b[30mT\u001b[30mT\u001b[32mG\u001b[34mA\u001b[34mA\u001b[30mT\u001b[31mC\u001b[30mT\u001b[30mT\u001b[31mC\u001b[30mT\u001b[32mG\u001b[34mA\u001b[31mC\u001b[34mA\u001b[31mC\u001b[30mT\u001b[34mA\u001b[30mT\u001b[30mT\u001b[32mG\u001b[34mA\u001b[31mC\u001b[34mA\u001b[34mA\u001b[30mT\u001b[32mG\u001b[30mT\u001b[31mC\u001b[34mA\u001b[34mA\u001b[32mG\u001b[30mT\u001b[31mC\u001b[34mA\u001b[34mA\u001b[34mA\u001b[32mG\u001b[34mA\u001b[30mT\u001b[30mT\u001b[31mC\u001b[34mA\u001b[34mA\u001b[32mG\u001b[34mA\u001b[31mC\u001b[34mA\u001b[34mA\u001b[32mG\u001b[32mG\u001b[34mA\u001b[34mA\u001b[32mG\u001b[32mG\u001b[30mT\u001b[34mA\u001b[30mT\u001b[31mC\u001b[31mC\u001b[31mC\u001b[34mA\u001b[31mC\u001b[31mC\u001b[30mT\u001b[32mG\u001b[34mA\u001b[31mC\u001b[31mC\u001b[34mA\u001b[34mA\u001b[31mC\u001b[34mA\u001b[34mA\u001b[34mA\u001b[32mG\u001b[34mA\u001b[30mT\u001b[30mT\u001b[32mG\u001b[34mA\u001b[30mT\u001b[31mC\u001b[30mT\u001b[30mT\u001b[30mT\u001b[32mG\u001b[31mC\u001b[30mT\u001b[32mG\u001b[32mG\u001b[30mT\u001b[34mA\u001b[34mA\u001b[32mG\u001b[31mC\u001b[34mA\u001b[34mA\u001b[30mT\u001b[30mT\u001b[32mG\u001b[32mG\u001b[34mA\u001b[34mA\u001b[32mG\u001b[34mA\u001b[31mC\u001b[32mG\u001b[32mG\u001b[30mT\u001b[34mA\u001b[32mG\u001b[34mA\u001b[34mA\u001b[31mC\u001b[31mC\u001b[30mT\u001b[30mT\u001b[32mG\u001b[30mT\u001b[31mC\u001b[30mT\u001b[32mG\u001b[34mA\u001b[31mC\u001b[30mT\u001b[34mA\u001b[31mC\u001b[34mA\u001b[34mA\u001b[31mC\u001b[34mA\u001b[30mT\u001b[30mT\u001b[31mC\u001b[34mA\u001b[34mA\u001b[34mA\u001b[34mA\u001b[34mA\u001b[32mG\u001b[34mA\u001b[34mA\u001b[30mT\u001b[31mC\u001b[31mC\u001b[34mA\u001b[31mC\u001b[30mT\u001b[30mT\u001b[30mT\u001b[32mG\u001b[31mC\u001b[34mA\u001b[31mC\u001b[30mT\u001b[30mT\u001b[34mA\u001b[32mG\u001b[30mT\u001b[31mC\u001b[30mT\u001b[30mT\u001b[32mG\u001b[34mA\u001b[32mG\u001b[34mA\u001b[30mT\u001b[30mT\u001b[32mG\u001b[34mA\u001b[32mG\u001b[34mA\u001b[32mG\u001b[32mG\u001b[30mT\u001b[32mG\u001b[32mG\u001b[30mT\u001b[34mA\u001b[30mT\u001b[31mC\u001b[34mA\u001b[30mT\u001b[30mT\u001b[32mG\u001b[34mA\u001b[34mA\u001b[31mC\u001b[31mC\u001b[34mA\u001b[30mT\u001b[31mC\u001b[30mT\u001b[30mT\u001b[30mT\u001b[32mG\u001b[34mA\u001b[34mA\u001b[34mA\u001b[32mG\u001b[31mC\u001b[30mT\u001b[30mT\u001b[30mT\u001b[32mG\u001b[32mG\u001b[31mC\u001b[30mT\u001b[30mT\u001b[31mC\u001b[31mC\u001b[34mA\u001b[34mA\u001b[32mG\u001b[30mT\u001b[34mA\u001b[31mC\u001b[34mA\u001b[34mA\u001b[31mC\u001b[30mT\u001b[32mG\u001b[30mT\u001b[32mG\u001b[34mA\u001b[31mC\u001b[34mA\u001b[34mA\u001b[34mA\u001b[30mT\u001b[31mC\u001b[30mT\u001b[32mG\u001b[30mT\u001b[30mT\u001b[30mT\u001b[32mG\u001b[31mC\u001b[31mC\u001b[32mG\u001b[30mT\u001b[34mA\u001b[34mA\u001b[32mG\u001b[30mT\u001b[32mG\u001b[30mT\u001b[30mT\u001b[34mA\u001b[30mT\u001b[32mG\u001b[31mC\u001b[30mT\u001b[34mA\u001b[32mG\u001b[34mA\u001b[30mT\u001b[30mT\u001b[32mG\u001b[31mC\u001b[31mC\u001b[34mA\u001b[31mC\u001b[31mC\u001b[34mA\u001b[34mA\u001b[32mG\u001b[34mA\u001b[32mG\u001b[31mC\u001b[30mT\u001b[34mA\u001b[31mC\u001b[31mC\u001b[34mA\u001b[34mA\u001b[31mC\u001b[30mT\u001b[32mG\u001b[30mT\u001b[34mA\u001b[32mG\u001b[34mA\u001b[34mA\u001b[34mA\u001b[32mG\u001b[34mA\u001b[32mG\u001b[34mA\u001b[34mA\u001b[34mA\u001b[32mG\u001b[30mT\u001b[32mG\u001b[30mT\u001b[32mG\u001b[32mG\u001b[30mT\u001b[31mC\u001b[34mA\u001b[31mC\u001b[34mA\u001b[31mC\u001b[31mC\u001b[34mA\u001b[34mA\u001b[31mC\u001b[31mC\u001b[34mA\u001b[34mA\u001b[30mT\u001b[30mT\u001b[32mG\u001b[31mC\u001b[32mG\u001b[30mT\u001b[31mC\u001b[31mC\u001b[34mA\u001b[34mA\u001b[34mA\u001b[32mG\u001b[34mA\u001b[34mA\u001b[32mG\u001b[34mA\u001b[34mA\u001b[32mG\u001b[30mT\u001b[30mT\u001b[34mA\u001b[34mA\u001b[34mA\u001b[34mA\u001b[30mT\u001b[32mG\u001b[34mA\u001b[31mC\u001b[32mG\u001b[32mG\u001b[34mA\u001b[30mT\u001b[30mT\u001b[31mC\u001b[31mC\u001b[32mG\u001b[32mG\u001b[34mA\u001b[30mT\u001b[31mC\u001b[30mT\u001b[31mC\u001b[32mG\u001b[31mC\u001b[32mG\u001b[31mC\u001b[30mT\u001b[34mA\u001b[32mG\n"
     ]
    }
   ],
   "source": [
    "# Write your python code here:    \n",
    "\n",
    "#open the FASTA file and read it \n",
    "dnafile=open('dna.fasta')\n",
    "save_file = dnafile.readlines() #read lines in file and save it \n",
    "\n",
    "dna = '' #initialize a variable to store dna as a string\n",
    "#loop through the saved file\n",
    "for line in save_file[1:]:# skip header line\n",
    "    dna+= line.strip() #strip off the newline character\n",
    "       \n",
    "#close the original file\n",
    "dnafile.close()\n",
    "\n",
    "get_color(dna)"
   ]
  },
  {
   "cell_type": "markdown",
   "metadata": {},
   "source": [
    "### Part B: Load and Store the Genetic Code\n",
    "\n",
    "In order to translate from DNA to protein, we must know which codons code for which amino acids, and this is best accomplished by saving the information as a dictionary. We have provided the genetic code as a separate file on [learn.bu.edu] `universal_genetic_code.tab`. Each of the 64 lines in the file looks like `AAA\\tB\\n`, a three‐letter codon, a tab `\\t`, a single‐letter amino acid designation, and a newline character `\\n`.\n",
    "\n",
    "1. Read this file line‐by‐line.\n",
    "2. Split each line into a codon string and a one‐letter amino acid string.\n",
    "3. Store this pair in a dictionary, with the codon being the key, and the amino acid being the value.\n",
    "\n",
    "A `*` is used to represent a translated **STOP** codon.\n",
    "\n",
    "**Hint:** We performed a similar task of splitting a string into substrings and then using those substrings to build a dictionary in BF527 Lab 9."
   ]
  },
  {
   "cell_type": "code",
   "execution_count": 3,
   "metadata": {
    "tags": []
   },
   "outputs": [
    {
     "data": {
      "text/plain": [
       "{'AAA': 'K',\n",
       " 'AAC': 'N',\n",
       " 'AAG': 'K',\n",
       " 'AAT': 'N',\n",
       " 'ACA': 'T',\n",
       " 'ACC': 'T',\n",
       " 'ACG': 'T',\n",
       " 'ACT': 'T',\n",
       " 'AGA': 'R',\n",
       " 'AGC': 'S',\n",
       " 'AGG': 'R',\n",
       " 'AGT': 'S',\n",
       " 'ATA': 'I',\n",
       " 'ATC': 'I',\n",
       " 'ATG': 'M',\n",
       " 'ATT': 'I',\n",
       " 'CAA': 'Q',\n",
       " 'CAC': 'H',\n",
       " 'CAG': 'Q',\n",
       " 'CAT': 'H',\n",
       " 'CCA': 'P',\n",
       " 'CCC': 'P',\n",
       " 'CCG': 'P',\n",
       " 'CCT': 'P',\n",
       " 'CGA': 'R',\n",
       " 'CGC': 'R',\n",
       " 'CGG': 'R',\n",
       " 'CGT': 'R',\n",
       " 'CTA': 'L',\n",
       " 'CTC': 'L',\n",
       " 'CTG': 'L',\n",
       " 'CTT': 'L',\n",
       " 'GAA': 'E',\n",
       " 'GAC': 'D',\n",
       " 'GAG': 'E',\n",
       " 'GAT': 'D',\n",
       " 'GCA': 'A',\n",
       " 'GCC': 'A',\n",
       " 'GCG': 'A',\n",
       " 'GCT': 'A',\n",
       " 'GGA': 'G',\n",
       " 'GGC': 'G',\n",
       " 'GGG': 'G',\n",
       " 'GGT': 'G',\n",
       " 'GTA': 'V',\n",
       " 'GTC': 'V',\n",
       " 'GTG': 'V',\n",
       " 'GTT': 'V',\n",
       " 'TAA': '*',\n",
       " 'TAC': 'Y',\n",
       " 'TAG': '*',\n",
       " 'TAT': 'Y',\n",
       " 'TCA': 'S',\n",
       " 'TCC': 'S',\n",
       " 'TCG': 'S',\n",
       " 'TCT': 'S',\n",
       " 'TGA': '*',\n",
       " 'TGC': 'C',\n",
       " 'TGG': 'W',\n",
       " 'TGT': 'C',\n",
       " 'TTA': 'L',\n",
       " 'TTC': 'F',\n",
       " 'TTG': 'L',\n",
       " 'TTT': 'F'}"
      ]
     },
     "execution_count": 3,
     "metadata": {},
     "output_type": "execute_result"
    }
   ],
   "source": [
    "# Write your python code here:\n",
    "def get_genecode():\n",
    "    #open the FASTA file and read it \n",
    "    genetic_file=open('universal_genetic_code.tab')\n",
    "    code_file = genetic_file.readlines() #read lines in file and save it \n",
    "\n",
    "    code_dic ={} #initialize a library to store codons and aas\n",
    "\n",
    "    #loop through the code file\n",
    "    for line in code_file:\n",
    "        line=line.strip() # strip end characters\n",
    "        codon = line.split('\\t') [0] # store condon\n",
    "        code_dic[codon]=line.split('\\t') [1] #store aa\n",
    "      \n",
    "    #close the original file\n",
    "    genetic_file.close()\n",
    "    return code_dic\n",
    "get_genecode()"
   ]
  },
  {
   "cell_type": "markdown",
   "metadata": {},
   "source": [
    "### Part C: Translating from DNA to Protein in 3 Frames\n",
    "\n",
    "We have loaded our DNA sequence, and saved all of the genetic code to an accessible file. Now we need to split the DNA into codons and use our dictionary to translate this into amino acids. However, we need to do this in three reading frames!\n",
    "\n",
    "1. Use a for loop and the functions range and len to split the DNA into codons. **Hint:** In BF527 Lab 6, we used `range` and `len` to build a matrix. Although we don’t want to build a matrix, we want to make use of the step function of `range` in order to change the opening reading frame.\n",
    "2. Translate the codons of the DNA sequence by looking the codons up in the dictionary, and printing the corresponding amino acid.\n",
    "3. Print the translated sequence to the screen, or save it or a variable to be printed later.\n",
    "4. Visually inspect the amino acid to see if it corresponds to an **ORF**, does it begin with a start/methionine codon (ATG)?\n",
    "5. Use BLAST to identify the protein.\n",
    "\n",
    "The range function creates lists containing arithmetic progressions. It is often used in `for` loops. The arguments must be plain integers. If the step argument is omitted, it defaults to 1. If the start argument is omitted, it defaults to 0. The full form returns a list of plain integers `[start, start + step, start + 2*step, ...]`.\n",
    "\n",
    "```\n",
    "range(start, stop, step)\n",
    "```"
   ]
  },
  {
   "cell_type": "code",
   "execution_count": 21,
   "metadata": {
    "tags": []
   },
   "outputs": [
    {
     "name": "stdout",
     "output_type": "stream",
     "text": [
      "['MSSQRFKTRKVSHLTNKD', 'MLDCHQELPTVERESVVTPTNCVQRRS', 'MQIFVKTLTGKTITLEVESSDTIDNVKSKIQDKEGIPPDQQRLIFAGKQLEDGRTLSDYNIQKESTLHLVLRLRGGIIEPSLKALASKYNCDKSVCRKCYARLPPRATNCRKRKCGHTNQLRPKKKLK']\n",
      "Open reading frames:\n",
      "\u001b[34mA\u001b[30mT\u001b[32mG\u001b[30mT\u001b[31mC\u001b[34mA\u001b[34mA\u001b[32mG\u001b[30mT\u001b[31mC\u001b[34mA\u001b[34mA\u001b[34mA\u001b[32mG\u001b[34mA\u001b[30mT\u001b[30mT\u001b[31mC\u001b[34mA\u001b[34mA\u001b[32mG\u001b[34mA\u001b[31mC\u001b[34mA\u001b[34mA\u001b[32mG\u001b[32mG\u001b[34mA\u001b[34mA\u001b[32mG\u001b[32mG\u001b[30mT\u001b[34mA\u001b[30mT\u001b[31mC\u001b[31mC\u001b[31mC\u001b[34mA\u001b[31mC\u001b[31mC\u001b[30mT\u001b[32mG\u001b[34mA\u001b[31mC\u001b[31mC\u001b[34mA\u001b[34mA\u001b[31mC\u001b[34mA\u001b[34mA\u001b[34mA\u001b[32mG\u001b[34mA\u001b[30mT\n",
      "\u001b[34mA\u001b[30mT\u001b[32mG\u001b[31mC\u001b[30mT\u001b[34mA\u001b[32mG\u001b[34mA\u001b[30mT\u001b[30mT\u001b[32mG\u001b[31mC\u001b[31mC\u001b[34mA\u001b[31mC\u001b[31mC\u001b[34mA\u001b[34mA\u001b[32mG\u001b[34mA\u001b[32mG\u001b[31mC\u001b[30mT\u001b[34mA\u001b[31mC\u001b[31mC\u001b[34mA\u001b[34mA\u001b[31mC\u001b[30mT\u001b[32mG\u001b[30mT\u001b[34mA\u001b[32mG\u001b[34mA\u001b[34mA\u001b[34mA\u001b[32mG\u001b[34mA\u001b[32mG\u001b[34mA\u001b[34mA\u001b[34mA\u001b[32mG\u001b[30mT\u001b[32mG\u001b[30mT\u001b[32mG\u001b[32mG\u001b[30mT\u001b[31mC\u001b[34mA\u001b[31mC\u001b[34mA\u001b[31mC\u001b[31mC\u001b[34mA\u001b[34mA\u001b[31mC\u001b[31mC\u001b[34mA\u001b[34mA\u001b[30mT\u001b[30mT\u001b[32mG\u001b[31mC\u001b[32mG\u001b[30mT\u001b[31mC\u001b[31mC\u001b[34mA\u001b[34mA\u001b[34mA\u001b[32mG\u001b[34mA\u001b[34mA\u001b[32mG\u001b[34mA\u001b[34mA\u001b[32mG\u001b[30mT\n",
      "\u001b[34mA\u001b[30mT\u001b[32mG\u001b[31mC\u001b[34mA\u001b[34mA\u001b[34mA\u001b[30mT\u001b[30mT\u001b[30mT\u001b[30mT\u001b[30mT\u001b[32mG\u001b[30mT\u001b[31mC\u001b[34mA\u001b[34mA\u001b[32mG\u001b[34mA\u001b[31mC\u001b[30mT\u001b[30mT\u001b[30mT\u001b[32mG\u001b[34mA\u001b[31mC\u001b[30mT\u001b[32mG\u001b[32mG\u001b[30mT\u001b[34mA\u001b[34mA\u001b[32mG\u001b[34mA\u001b[31mC\u001b[31mC\u001b[34mA\u001b[30mT\u001b[31mC\u001b[34mA\u001b[31mC\u001b[30mT\u001b[30mT\u001b[30mT\u001b[32mG\u001b[32mG\u001b[34mA\u001b[34mA\u001b[32mG\u001b[30mT\u001b[30mT\u001b[32mG\u001b[34mA\u001b[34mA\u001b[30mT\u001b[31mC\u001b[30mT\u001b[30mT\u001b[31mC\u001b[30mT\u001b[32mG\u001b[34mA\u001b[31mC\u001b[34mA\u001b[31mC\u001b[30mT\u001b[34mA\u001b[30mT\u001b[30mT\u001b[32mG\u001b[34mA\u001b[31mC\u001b[34mA\u001b[34mA\u001b[30mT\u001b[32mG\u001b[30mT\u001b[31mC\u001b[34mA\u001b[34mA\u001b[32mG\u001b[30mT\u001b[31mC\u001b[34mA\u001b[34mA\u001b[34mA\u001b[32mG\u001b[34mA\u001b[30mT\u001b[30mT\u001b[31mC\u001b[34mA\u001b[34mA\u001b[32mG\u001b[34mA\u001b[31mC\u001b[34mA\u001b[34mA\u001b[32mG\u001b[32mG\u001b[34mA\u001b[34mA\u001b[32mG\u001b[32mG\u001b[30mT\u001b[34mA\u001b[30mT\u001b[31mC\u001b[31mC\u001b[31mC\u001b[34mA\u001b[31mC\u001b[31mC\u001b[30mT\u001b[32mG\u001b[34mA\u001b[31mC\u001b[31mC\u001b[34mA\u001b[34mA\u001b[31mC\u001b[34mA\u001b[34mA\u001b[34mA\u001b[32mG\u001b[34mA\u001b[30mT\u001b[30mT\u001b[32mG\u001b[34mA\u001b[30mT\u001b[31mC\u001b[30mT\u001b[30mT\u001b[30mT\u001b[32mG\u001b[31mC\u001b[30mT\u001b[32mG\u001b[32mG\u001b[30mT\u001b[34mA\u001b[34mA\u001b[32mG\u001b[31mC\u001b[34mA\u001b[34mA\u001b[30mT\u001b[30mT\u001b[32mG\u001b[32mG\u001b[34mA\u001b[34mA\u001b[32mG\u001b[34mA\u001b[31mC\u001b[32mG\u001b[32mG\u001b[30mT\u001b[34mA\u001b[32mG\u001b[34mA\u001b[34mA\u001b[31mC\u001b[31mC\u001b[30mT\u001b[30mT\u001b[32mG\u001b[30mT\u001b[31mC\u001b[30mT\u001b[32mG\u001b[34mA\u001b[31mC\u001b[30mT\u001b[34mA\u001b[31mC\u001b[34mA\u001b[34mA\u001b[31mC\u001b[34mA\u001b[30mT\u001b[30mT\u001b[31mC\u001b[34mA\u001b[34mA\u001b[34mA\u001b[34mA\u001b[34mA\u001b[32mG\u001b[34mA\u001b[34mA\u001b[30mT\u001b[31mC\u001b[31mC\u001b[34mA\u001b[31mC\u001b[30mT\u001b[30mT\u001b[30mT\u001b[32mG\u001b[31mC\u001b[34mA\u001b[31mC\u001b[30mT\u001b[30mT\u001b[34mA\u001b[32mG\u001b[30mT\u001b[31mC\u001b[30mT\u001b[30mT\u001b[32mG\u001b[34mA\u001b[32mG\u001b[34mA\u001b[30mT\u001b[30mT\u001b[32mG\u001b[34mA\u001b[32mG\u001b[34mA\u001b[32mG\u001b[32mG\u001b[30mT\u001b[32mG\u001b[32mG\u001b[30mT\u001b[34mA\u001b[30mT\u001b[31mC\u001b[34mA\u001b[30mT\u001b[30mT\u001b[32mG\u001b[34mA\u001b[34mA\u001b[31mC\u001b[31mC\u001b[34mA\u001b[30mT\u001b[31mC\u001b[30mT\u001b[30mT\u001b[30mT\u001b[32mG\u001b[34mA\u001b[34mA\u001b[34mA\u001b[32mG\u001b[31mC\u001b[30mT\u001b[30mT\u001b[30mT\u001b[32mG\u001b[32mG\u001b[31mC\u001b[30mT\u001b[30mT\u001b[31mC\u001b[31mC\u001b[34mA\u001b[34mA\u001b[32mG\u001b[30mT\u001b[34mA\u001b[31mC\u001b[34mA\u001b[34mA\u001b[31mC\u001b[30mT\u001b[32mG\u001b[30mT\u001b[32mG\u001b[34mA\u001b[31mC\u001b[34mA\u001b[34mA\u001b[34mA\u001b[30mT\u001b[31mC\u001b[30mT\u001b[32mG\u001b[30mT\u001b[30mT\u001b[30mT\u001b[32mG\u001b[31mC\u001b[31mC\u001b[32mG\u001b[30mT\u001b[34mA\u001b[34mA\u001b[32mG\u001b[30mT\u001b[32mG\u001b[30mT\u001b[30mT\u001b[34mA\u001b[30mT\u001b[32mG\u001b[31mC\u001b[30mT\u001b[34mA\u001b[32mG\u001b[34mA\u001b[30mT\u001b[30mT\u001b[32mG\u001b[31mC\u001b[31mC\u001b[34mA\u001b[31mC\u001b[31mC\u001b[34mA\u001b[34mA\u001b[32mG\u001b[34mA\u001b[32mG\u001b[31mC\u001b[30mT\u001b[34mA\u001b[31mC\u001b[31mC\u001b[34mA\u001b[34mA\u001b[31mC\u001b[30mT\u001b[32mG\u001b[30mT\u001b[34mA\u001b[32mG\u001b[34mA\u001b[34mA\u001b[34mA\u001b[32mG\u001b[34mA\u001b[32mG\u001b[34mA\u001b[34mA\u001b[34mA\u001b[32mG\u001b[30mT\u001b[32mG\u001b[30mT\u001b[32mG\u001b[32mG\u001b[30mT\u001b[31mC\u001b[34mA\u001b[31mC\u001b[34mA\u001b[31mC\u001b[31mC\u001b[34mA\u001b[34mA\u001b[31mC\u001b[31mC\u001b[34mA\u001b[34mA\u001b[30mT\u001b[30mT\u001b[32mG\u001b[31mC\u001b[32mG\u001b[30mT\u001b[31mC\u001b[31mC\u001b[34mA\u001b[34mA\u001b[34mA\u001b[32mG\u001b[34mA\u001b[34mA\u001b[32mG\u001b[34mA\u001b[34mA\u001b[32mG\u001b[30mT\u001b[30mT\u001b[34mA\u001b[34mA\u001b[34mA\u001b[34mA\n"
     ]
    }
   ],
   "source": [
    "# Add your python code here:\n",
    "def get_orfs(dna):\n",
    "    orflist=[] # initialize a variable to store open reading frames\n",
    "    frames = [] # initialize a variable to store codons for each orf\n",
    "    # split the dna into codons \n",
    "    frames.append([dna[i:i + 3] for i in range(0, len(dna), 3)])\n",
    "    frames.append([dna[i:i + 3] for i in range(1, len(dna), 3)])\n",
    "    frames.append([dna[i:i + 3] for i in range(2, len(dna), 3)])\n",
    "    \n",
    "    for i in range(len(frames)): #looping through frames\n",
    "        for j in range(len(frames[i])):\n",
    "            if frames[i][j]==\"ATG\":#find a start codon\n",
    "                for n in range(j+1,len(frames[i])):\n",
    "                    if frames[i][n] in [\"TAA\",\"TAG\",\"TGA\"]:#meet a stop codon       \n",
    "                        orflist.append(frames[i][j:n]) # retrieve the orf from start to stop codon\n",
    "                        break\n",
    "        j+=1\n",
    "        \n",
    "    #finally,translate codons into amino acids\n",
    "    proteins=[]#initialize a variable to store translated proteins of each orf\n",
    "    for i in range(len(orflist)):\n",
    "        aas=''\n",
    "        for j in range(len(orflist[i])):\n",
    "            aas+=get_genecode()[orflist[i][j]]\n",
    "        proteins.append(aas)\n",
    "        aas=''\n",
    "    print(proteins)\n",
    "    \n",
    "    #transfer orf list into a list of orf in consecutive sequences\n",
    "    orf=[]\n",
    "    orf_str=''\n",
    "    for i in range(len(orflist)):\n",
    "        for j in range(len(orflist[i])):\n",
    "            orf_str+=orflist[i][j]\n",
    "        orf.append(orf_str)\n",
    "        orf_str=''\n",
    "\n",
    "    #print orf in color\n",
    "    print(\"Open reading frames:\")\n",
    "    for i in range(len(orf)):\n",
    "        get_color(orf[i])\n",
    "        \n",
    "get_orfs(dna)"
   ]
  },
  {
   "cell_type": "raw",
   "metadata": {},
   "source": [
    "The first protein sequence is less than 20 amino acids so it is not long enough to be a orf. For the second protein sequence, there are matches in NCBI BLAST result; however, the evalues are not sinificant, with the expect of best alignment(hypothetical protein EYC80_004900 [Monilinia laxa]) = 6.7. The third protein is identified as ubiquitin-ribosomal 60S subunit protein L40A fusion protein [Saccharomyces cerevisiae S288C] from NCBI BLAST."
   ]
  },
  {
   "cell_type": "markdown",
   "metadata": {},
   "source": [
    "### EXTRA: Translating from DNA to Protein in 6 Frames\n",
    "\n",
    "This is **NOT REQUIRED** for completion of BF527 Lab 13. However, if you would like a personal challenge, translate the DNA sequence in the full 6 frames. There are an additional 3 reading frames in the reverse complement of the DNA sequence that could also code for a protein. The \"reverse complement\" of a sequence is backwards and the complementary nucleotides are used. For example, the reverse complement of `ATTTGC` is `GCAAAT`.\n",
    "\n",
    "1. Build the reverse complement in a new variable. Use a `for` loop to read the original DNA sequence, and concatenate or add the complementary nucleotide. Make sure the output is reversed!\n",
    "2. Now you can use the code you wrote for Part C to also translate this extra sequence."
   ]
  },
  {
   "cell_type": "code",
   "execution_count": 22,
   "metadata": {
    "tags": []
   },
   "outputs": [
    {
     "data": {
      "text/plain": [
       "'CTAGCGCGAGATCCGGAATCCGTCATTTTAACTTCTTCTTTGGACGCAATTGGTTGGTGTGACCACACTTTCTCTTTCTACAGTTGGTAGCTCTTGGTGGCAATCTAGCATAACACTTACGGCAAACAGATTTGTCACAGTTGTACTTGGAAGCCAAAGCTTTCAAAGATGGTTCAATGATACCACCTCTCAATCTCAAGACTAAGTGCAAAGTGGATTCTTTTTGAATGTTGTAGTCAGACAAGGTTCTACCGTCTTCCAATTGCTTACCAGCAAAGATCAATCTTTGTTGGTCAGGTGGGATACCTTCCTTGTCTTGAATCTTTGACTTGACATTGTCAATAGTGTCAGAAGATTCAACTTCCAAAGTGATGGTCTTACCAGTCAAAGTCTTGACAAAAATTTGCATTAGCCTAG'"
      ]
     },
     "execution_count": 22,
     "metadata": {},
     "output_type": "execute_result"
    }
   ],
   "source": [
    "# Write your python code here.\n",
    "def revcomp_dna(dna):\n",
    "    #first, build the compelentary dna sequence\n",
    "    comp = {\"A\": \"T\", \"C\": \"G\", \"T\": \"A\", \"G\": \"C\"} #base pairs\n",
    "    comp_dna=''\n",
    "    for i in range(len(dna)):\n",
    "        comp_dna+=comp[dna[i]]\n",
    "    #reverse the complement dna\n",
    "    rev_comp = comp_dna[::-1]\n",
    "    \n",
    "    return rev_comp\n",
    "revcomp_dna(dna)"
   ]
  },
  {
   "cell_type": "code",
   "execution_count": 23,
   "metadata": {},
   "outputs": [
    {
     "name": "stdout",
     "output_type": "stream",
     "text": [
      "['MVQ', 'MIPPLNLKTKCKVDSF', 'ML']\n",
      "Open reading frames:\n",
      "\u001b[34mA\u001b[30mT\u001b[32mG\u001b[32mG\u001b[30mT\u001b[30mT\u001b[31mC\u001b[34mA\u001b[34mA\n",
      "\u001b[34mA\u001b[30mT\u001b[32mG\u001b[34mA\u001b[30mT\u001b[34mA\u001b[31mC\u001b[31mC\u001b[34mA\u001b[31mC\u001b[31mC\u001b[30mT\u001b[31mC\u001b[30mT\u001b[31mC\u001b[34mA\u001b[34mA\u001b[30mT\u001b[31mC\u001b[30mT\u001b[31mC\u001b[34mA\u001b[34mA\u001b[32mG\u001b[34mA\u001b[31mC\u001b[30mT\u001b[34mA\u001b[34mA\u001b[32mG\u001b[30mT\u001b[32mG\u001b[31mC\u001b[34mA\u001b[34mA\u001b[34mA\u001b[32mG\u001b[30mT\u001b[32mG\u001b[32mG\u001b[34mA\u001b[30mT\u001b[30mT\u001b[31mC\u001b[30mT\u001b[30mT\u001b[30mT\u001b[30mT\n",
      "\u001b[34mA\u001b[30mT\u001b[32mG\u001b[30mT\u001b[30mT\u001b[32mG\n"
     ]
    }
   ],
   "source": [
    "get_orfs(revcomp_dna(dna))"
   ]
  },
  {
   "cell_type": "code",
   "execution_count": null,
   "metadata": {},
   "outputs": [],
   "source": []
  }
 ],
 "metadata": {
  "anaconda-cloud": {},
  "kernelspec": {
   "display_name": "Python 3 (ipykernel)",
   "language": "python",
   "name": "python3"
  },
  "language_info": {
   "codemirror_mode": {
    "name": "ipython",
    "version": 3
   },
   "file_extension": ".py",
   "mimetype": "text/x-python",
   "name": "python",
   "nbconvert_exporter": "python",
   "pygments_lexer": "ipython3",
   "version": "3.9.13"
  }
 },
 "nbformat": 4,
 "nbformat_minor": 4
}
