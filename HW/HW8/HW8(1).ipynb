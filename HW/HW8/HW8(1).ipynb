{
 "cells": [
  {
   "cell_type": "markdown",
   "metadata": {},
   "source": [
    "# BF527: Applications in Bioinformatics\n",
    "\n",
    ">**Note:** Please submit the Jupyter notebook through Blackboard. Your code should follow the guidelines laid out in class, including commenting. Partial credit will be given for nonfunctional code that is logical and well commented. This assignment must be completed on your own.\n",
    "\n",
    "## Homework 8\n",
    "\n",
    "### See [Blackboard](https://learn.bu.edu) for assignment and due dates\n",
    "\n",
    "---"
   ]
  },
  {
   "cell_type": "markdown",
   "metadata": {},
   "source": [
    "## Problem 8.1 (40%):\n",
    "\n",
    "#### Go to the PDB website and open the page for the structure with PDB ID 3BMP.\n",
    "\n",
    "* Use __Pfam__, Uniprot, Google or Wikipedia to find some information about this protein. How long is the protein? Which superfamily does the protein belong to? What is the protein’s function, and the evolutionary history of the superfamily? What domains and enzymatic properties does the protein have?"
   ]
  },
  {
   "cell_type": "raw",
   "metadata": {},
   "source": [
    "3BMP(Human Bone morphogenetic protein 2) \n",
    "\n",
    "Length: 114 amino acids\n",
    "\n",
    "Family: Transforming growth factor beta (TGF-β) family"
   ]
  },
  {
   "cell_type": "markdown",
   "metadata": {},
   "source": [
    "#### Explore the 3D structure of “3BMP” using the \"3D View\" tab on the PDB website.\n",
    "\n",
    "* Generate two informative pictures of this structure by manipulating the various style options (you can fine tune these options through the right-click menu). Include screen shots with your homework submission and explain the biological meaning of the different styles."
   ]
  },
  {
   "cell_type": "raw",
   "metadata": {},
   "source": [
    "Write your answer here."
   ]
  },
  {
   "cell_type": "markdown",
   "metadata": {},
   "source": [
    "#### Use the other information tabs to answer the remaining questions.\n",
    "\n",
    "* There are some “dots” buried in the structure—what do these represent? __Hint: try hovering over them with your pointer.__"
   ]
  },
  {
   "cell_type": "raw",
   "metadata": {},
   "source": [
    "Write your answer here."
   ]
  },
  {
   "cell_type": "markdown",
   "metadata": {},
   "source": [
    "* Describe the secondary structure composition of this protein. Is there a prevalence of one type of secondary structure?"
   ]
  },
  {
   "cell_type": "raw",
   "metadata": {},
   "source": [
    "Write your answer here."
   ]
  },
  {
   "cell_type": "markdown",
   "metadata": {},
   "source": [
    "* Does the protein belong to a family recognized by SCOP, CATH, and/or PFam?"
   ]
  },
  {
   "cell_type": "raw",
   "metadata": {},
   "source": [
    "Write your answer here."
   ]
  },
  {
   "cell_type": "markdown",
   "metadata": {},
   "source": [
    "* Is the protein similar to any other human proteins? To what degree?\n",
    "\n",
    "__Hints__: You can download a fasta record from the PDB website. You can restrict blast to only look in the human database."
   ]
  },
  {
   "cell_type": "raw",
   "metadata": {},
   "source": [
    "Write your answer here."
   ]
  },
  {
   "cell_type": "markdown",
   "metadata": {},
   "source": [
    "* How was the 3D structure and view of this protein generated?\n",
    "\n",
    "__Hint__: The \"Experiment\" tab on the PDB website has some information that may help here"
   ]
  },
  {
   "cell_type": "raw",
   "metadata": {},
   "source": [
    "Write your answer here."
   ]
  },
  {
   "cell_type": "markdown",
   "metadata": {},
   "source": [
    "---\n",
    "\n",
    "## Problem 8.2 (60%):\n",
    "\n",
    "__Your task is to write a python script to parse a PDB file__. A typical PDB format file will contain atomic coordinates for proteins, as well as small molecules, ions and water. Each atom is entered as a line of information that starts with a keyword ATOM or HETATM. By tradition, the ATOM keyword is used to identify proteins or nucleic acid atoms, and keyword HETATM is used to identify atoms in small molecules. Following this keyword, there is a list of information about the atom, including its name, its number in the file, the name and number of the residue it belongs to, one letter to specify the chain (in oligomeric proteins), its x, y, and z coordinates. Download the raw data for 3BMP. (__Hint: under “Download files” select \"PDB Format\"__.) Your Python script should do the following things:\n",
    "\n",
    "* Open the 3BMP.pdb file in order to parse it line by line. __Hint__: PDB files can be a little hard to read because the lines will have varied numbers of spaces so that the columns line up exactly in a flat file. If you tried opening the file (in a text editor), you’ll also realize that it has a LOT of different information in it. You are only interested in rows that begin with “ATOM”. The best way to separate individual components of a line is by slicing, e.g. to get just “ATOM” you could use line[0:4]. __Splitting on a variable (e.g. '```\\t```') will not work__.\n",
    "* Amino acids are made of Carbon (C), Nitrogen (N), Sulfur (S), and Oxygen (O). Count the number of C, N, S and O atoms that occur in each amino acid of the protein, including the total number of C, N, S and O atoms in the protein. Compute the frequencies (%) for each atom in each unique amino acid. __Remember__: the keyword for atoms in proteins (instead of small molecules) is ATOM; the HETATM keywords can be ignored. The atomic element is given a one-letter code at the __end of the line__. The PDB file will display the x,y,z coordinates starting at amino acid #9, and continuing to amino acid #114. There will be one line per atom of the amino acid. The question you are trying to answer is, of all the C, N and O atoms in the protein structure, how many are in Alanine, Arginine, etc.\n",
    "\n",
    "Your output should look like:\n",
    "\n",
    "```\n",
    "amino acid  C     N     S     O\n",
    "ARG         0.03  0.08  0.00  0.03\n",
    "ASN         0.05  0.10  0.00  0.09\n",
    "ASP         0.05  0.04  0.00  0.12\n",
    "…etc\n",
    "total:      531   142   9     156\n",
    "```\n"
   ]
  },
  {
   "cell_type": "code",
   "execution_count": 126,
   "metadata": {
    "tags": []
   },
   "outputs": [
    {
     "name": "stdout",
     "output_type": "stream",
     "text": [
      "amino acid C \t N \t S \t O\n",
      "ARG \t 0.03 \t 0.08 \t 0.00 \t 0.03\n",
      "LEU \t 0.10 \t 0.06 \t 0.00 \t 0.06\n",
      "LYS \t 0.07 \t 0.08 \t 0.00 \t 0.04\n",
      "SER \t 0.05 \t 0.06 \t 0.00 \t 0.10\n",
      "CYS \t 0.04 \t 0.05 \t 0.78 \t 0.04\n",
      "HIS \t 0.06 \t 0.11 \t 0.00 \t 0.03\n",
      "PRO \t 0.07 \t 0.05 \t 0.00 \t 0.04\n",
      "TYR \t 0.08 \t 0.04 \t 0.00 \t 0.06\n",
      "VAL \t 0.10 \t 0.08 \t 0.00 \t 0.07\n",
      "ASP \t 0.05 \t 0.04 \t 0.00 \t 0.12\n",
      "PHE \t 0.05 \t 0.02 \t 0.00 \t 0.02\n",
      "GLY \t 0.02 \t 0.04 \t 0.00 \t 0.03\n",
      "TRP \t 0.04 \t 0.03 \t 0.00 \t 0.01\n",
      "ASN \t 0.05 \t 0.10 \t 0.00 \t 0.09\n",
      "ILE \t 0.05 \t 0.03 \t 0.00 \t 0.03\n",
      "ALA \t 0.03 \t 0.04 \t 0.00 \t 0.04\n",
      "GLU \t 0.05 \t 0.04 \t 0.00 \t 0.11\n",
      "THR \t 0.02 \t 0.02 \t 0.00 \t 0.04\n",
      "GLN \t 0.02 \t 0.03 \t 0.00 \t 0.03\n",
      "MET \t 0.02 \t 0.01 \t 0.22 \t 0.01\n",
      "total \t 531 \t 142 \t 9 \t 156\n"
     ]
    }
   ],
   "source": [
    "#Write your script here\n",
    "\n",
    "# Taking \"3BMP.pdb\" as input file in reading mode\n",
    "with open(\"3BMP.pdb\", \"r\") as input:\n",
    "      \n",
    "    # Creating \"gfg output file.txt\" as output file in write mode\n",
    "    with open(\"ATOM.txt\", \"w\") as output:\n",
    "          \n",
    "        # Writing each line from input file to\n",
    "        # output file using loop\n",
    "        for line in input:\n",
    "            if line[:4]==\"ATOM\":\n",
    "                output.write(line)\n",
    "                \n",
    "#open the 'ATOM.txt' file that just contain ATOM information               \n",
    "file=open(\"ATOM.txt\", \"r\")\n",
    "s=file.readlines()\n",
    "\n",
    "#initialize a variable to store all the amino acids in this protein\n",
    "aa_ls=[]\n",
    "#loop through lines to get amino acids in lines\n",
    "for line in s:\n",
    "    if line[17:20] not in aa_ls:\n",
    "        aa_ls.append(line[17:20])\n",
    "#aa_ls\n",
    "\n",
    "#Obtain the complete molecular elemental composition of each amino acid\n",
    "#store them a string\n",
    "aa_mol={} #iniliaze a dictionary, keys: aa ; values:molecular formula\n",
    "\n",
    "#loop through all amino acids\n",
    "for aa in aa_ls:\n",
    "    aa_mol[aa]=''\n",
    "    #loop through lines in the ATOM file to get information of elements of each animo acid\n",
    "    for line in s:\n",
    "        if line[17:20]==aa:\n",
    "            aa_mol[aa]+=line.strip()[-1]#remove newline character and get the last element\n",
    "#aa_mol\n",
    "\n",
    "#count all the \"C\",\"N\",\"S\",\"O\" in the entire protein\n",
    "total=''#initialize a variable to store all the elements in the protein as a string\n",
    "#loop through all amino acids' molecular elements\n",
    "for value in aa_mol.values():\n",
    "    total+=value #add them to one string\n",
    "#count \n",
    "t_C=total.count(\"C\")\n",
    "t_N=total.count(\"N\")\n",
    "t_S=total.count(\"S\")\n",
    "t_O=total.count(\"O\")\n",
    "\n",
    "\n",
    "print(\"amino acid\",\"C\",'\\t',\"N\",'\\t',\"S\",'\\t',\"O\")\n",
    "#count \"C\",\"N\",\"S\",\"O\" in each amino acid\n",
    "#calculate element ratios and print with two decimal places\n",
    "for key in aa_mol.keys():\n",
    "    print(key,'\\t',\"%.2f\" % (aa_mol[key].count(\"C\")/t_C),\n",
    "          '\\t',\"%.2f\" % (aa_mol[key].count(\"N\")/t_N),\n",
    "         '\\t', \"%.2f\" % (aa_mol[key].count(\"S\")/t_S),\n",
    "          '\\t',\"%.2f\" % (aa_mol[key].count(\"O\")/t_O))\n",
    "print(\"total\",'\\t',t_C,'\\t',t_N,'\\t',t_S,'\\t',t_O)"
   ]
  },
  {
   "cell_type": "markdown",
   "metadata": {},
   "source": [
    "__What does the distribution of frequencies look like? Are there any atoms that are more prevalent in one amino acid or another?__"
   ]
  },
  {
   "cell_type": "raw",
   "metadata": {},
   "source": [
    "The frequencies of the respective distribution of C, N and O atoms in each amino acid ranged from 0.01 to 0.11, but S atoms were only found in two amino acids, Cysteine and Methionine, with a higher frequency distribution in Cysteine. Carbon atoms are more frequent in LEU and VAL, nitrogen atoms are more frequent in HIS and ASN and less frequent in MET, and oxygen atoms are more frequent in SER, ASR and GLU and less frequent in MET."
   ]
  },
  {
   "cell_type": "code",
   "execution_count": null,
   "metadata": {},
   "outputs": [],
   "source": []
  }
 ],
 "metadata": {
  "kernelspec": {
   "display_name": "Python 3 (ipykernel)",
   "language": "python",
   "name": "python3"
  },
  "language_info": {
   "codemirror_mode": {
    "name": "ipython",
    "version": 3
   },
   "file_extension": ".py",
   "mimetype": "text/x-python",
   "name": "python",
   "nbconvert_exporter": "python",
   "pygments_lexer": "ipython3",
   "version": "3.9.13"
  }
 },
 "nbformat": 4,
 "nbformat_minor": 4
}
