{
 "cells": [
  {
   "cell_type": "markdown",
   "metadata": {},
   "source": [
    "# Lab15 Structural Bioinformatics"
   ]
  },
  {
   "cell_type": "markdown",
   "metadata": {},
   "source": [
    "# Reminder about Rosalind extra credit\n",
    "\n",
    "The website http://rosalind.info has a number of valuable programming exercises to help teach core bioinformatics concepts. To give you practice with writing and running python scripts, a command line version of the Rosalind Stronghold problems has been created for you. \n",
    "\n",
    "The Rosalind Stronghold problems are *optional* and will be counted as *extra credit* at the end of the course. They may be completed and submitted at any time at the *Rosalind Extra Credit* task in the Homeworks folder at the Blackboard.\n",
    "\n",
    "\n",
    "## Running rosalind\n",
    "\n",
    "Log into SCC as usual: \n",
    "\n",
    "<b>ssh -X username@scc2.bu.edu</b>\n",
    "\n",
    "To get started, run the following on the command line:\n",
    "\n",
    "<b>module load anaconda2<br>\n",
    "source activate rosalind<br>\n",
    "rosalind help`</b>\n",
    "\n",
    "The information printed to the screen will give you instructions on how to use the `rosalind` program.\n",
    "\n",
    "The rosalind problem ID you will solve today is **FIB**, where you are asked to print out the counts of each nucleotide in a specific format. Run:\n",
    "\n",
    "<b>rosalind info FIB</b>\n",
    "\n",
    "to read a description of the problem and see an example input and expected output. To save the python template at the end of the info, run the following:\n",
    "\n",
    "<b>rosalind info FIB > rosalind_FIB_template.py</b>\n",
    "\n",
    "You can then edit the script `rosalind_FIB_template.py` to complete the task. When you think your script is ready to test, run:\n",
    "\n",
    "<b>rosalind submit FIB rosalind_FIB_template.py</b>\n",
    "\n",
    "The program will show you how your script output compares with the expected output.\n",
    "\n",
    "Submit your python script to Blackboard for credit."
   ]
  },
  {
   "cell_type": "markdown",
   "metadata": {},
   "source": [
    "# Lab 15 Assignment: Playing with *Foldit*\n",
    "\n",
    "**BACKGROUND:** \n",
    ">*Foldit* is an experimental video game about protein folding, developed as a collaboration between the University of Washington's departments of Computer Science and Engineering and Biochemistry (many of the same people who created Rosetta@home) \n",
    "\n",
    "    ... \n",
    "\n",
    ">*Foldit* provides a series of tutorials in which the user manipulates simple protein‐like structures, and a periodically updated set of puzzles based on real proteins. The application displays a graphical representation of the protein's structure which the user is able to manipulate with the aid of a set of tools. As the structure is modified, a ‘score’ is calculated based on how well‐folded the protein is, and a list of high scores for each puzzle is maintained \n",
    "\n",
    "    ... \n",
    "\n",
    ">*Foldit* is an attempt to apply the human brain's natural three‐dimensional pattern matching abilities to [*the protein folding problem*]. Current puzzles are based on well‐understood proteins; by analyzing the ways in which humans intuitively approach these puzzles, researchers hope to improve the algorithms employed by existing protein‐folding software. In 2008, the *Foldit* project submitted solutions to the CASP protein structure prediction contest [*for 7 targets, players or groups were ranked amongst the best 3 predictions, and for one target they actually predicted the best model (out of 77 entries)!*].\" – **Wikipedia Article \"Foldit\"**"
   ]
  },
  {
   "cell_type": "markdown",
   "metadata": {},
   "source": [
    "\n",
    "- The program is available for all platforms at https://fold.it/ . Download and save the appropriate OS version to your desktop. \n",
    "- Enter the Foldit folder and double click on *Foldit*. This starts the program. For now, skip the registration step and experiment with the off‐line version.\n",
    "- Follow the on‐screen instructions and your brain’s “natural three‐dimensional pattern matching abilities.” Try to solve as many puzzles as possible during the lab period. Have fun! ☺\n",
    "\n",
    "**NOTE:** If *Foldit* does not install correctly, feel free to try three‐dimensional RNA folding Eterna game instead of protein folding at https://eternagame.org/ . Follow the on‐screen instructions and your brain’s “natural three‐dimensional pattern matching abilities.” Try to solve as many puzzles as possible during the lab period. *Have fun!* ☺"
   ]
  }
 ],
 "metadata": {
  "anaconda-cloud": {},
  "celltoolbar": "Raw Cell Format",
  "kernelspec": {
   "display_name": "Python 3 (ipykernel)",
   "language": "python",
   "name": "python3"
  },
  "language_info": {
   "codemirror_mode": {
    "name": "ipython",
    "version": 3
   },
   "file_extension": ".py",
   "mimetype": "text/x-python",
   "name": "python",
   "nbconvert_exporter": "python",
   "pygments_lexer": "ipython3",
   "version": "3.9.13"
  }
 },
 "nbformat": 4,
 "nbformat_minor": 4
}
