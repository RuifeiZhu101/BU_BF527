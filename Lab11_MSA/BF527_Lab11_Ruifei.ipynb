{
 "cells": [
  {
   "cell_type": "markdown",
   "metadata": {},
   "source": [
    "# BF527 Lab 11\n",
    "## Multiple Sequence Alignment"
   ]
  },
  {
   "cell_type": "markdown",
   "metadata": {},
   "source": [
    "### Background\n",
    "Multiple sequence alignment algorithms are used to align 3 or more sequences, and viewers are used to display regions that are conserved across all sequences. Conserved regions within proteins\n",
    "often correspond to functional domains. For example, transcription factors contain one or more of limited DNA binding domain classes. Domain classes include winged helices and zinc fingers whose\n",
    "structures provide clues into binding mechanisms. Other functional domains include protein-protein interaction and kinase domains.\n",
    "\n",
    "### MSA Viewers\n",
    "A popular *Multiple Sequence Aligner (MSA)* is [Clustal](https://www.ebi.ac.uk/Tools/msa/clustalo/). Many online viewers are available. Most viewers take [Clustal](https://www.ebi.ac.uk/Tools/msa/clustalo/) alignment files as input. Today, we will use an HTML based viewer called [MView](https://www.ebi.ac.uk/Tools/msa/mview/). Once you align your sequences with [Clustal](https://www.ebi.ac.uk/Tools/msa/clustalo/) choose the tab \"Results Viewers\", choose MView and click `Submit`.\n",
    "\n",
    "### Objective\n",
    "Identify whether there are any conserved regions in the following 5 human transcription factors: \n",
    "\n",
    "* ATF1\n",
    "* BACH1\n",
    "* CEBPE\n",
    "* FOS\n",
    "* JUN"
   ]
  },
  {
   "cell_type": "markdown",
   "metadata": {},
   "source": [
    "## Task A\n",
    "\n",
    "1. Find the protein sequences in [UniProt](http://www.uniprot.org/) and create a single FASTA file with all the entries.\n",
    "\n",
    "**Note**: Add *HUMAN* to refine the search; for example, `ATF1 HUMAN`.  Then select the first entry, and click on `Added to Basket`. Add all of the sequences to your basket, and download a single fasta file with all of the sequences.\n",
    "\n",
    "2. Run [Clustal](http://www.ebi.ac.uk/Tools/msa/clustalo/) with default settings to identify any conserved regions in the 5 transcription factors. Explore results with [MView](https://www.ebi.ac.uk/Tools/msa/mview/). \n",
    "\n",
    "**Note:** To run Clustal Omega from SCC, \n",
    "\n",
    "``module load clustalomega\n",
    "clustalo -i proteins.fasta``\n",
    "\n",
    "3. Answer **ALL** of the questions below. "
   ]
  },
  {
   "cell_type": "markdown",
   "metadata": {},
   "source": [
    "* Is there a conserved region?"
   ]
  },
  {
   "cell_type": "raw",
   "metadata": {},
   "source": [
    "yes"
   ]
  },
  {
   "cell_type": "markdown",
   "metadata": {},
   "source": [
    "* Are there multiple conserved regions?"
   ]
  },
  {
   "cell_type": "raw",
   "metadata": {},
   "source": [
    "yes"
   ]
  },
  {
   "cell_type": "markdown",
   "metadata": {},
   "source": [
    "* How long is the longest such region?"
   ]
  },
  {
   "cell_type": "code",
   "execution_count": 3,
   "metadata": {
    "tags": []
   },
   "outputs": [
    {
     "name": "stdout",
     "output_type": "stream",
     "text": [
      "conserved region length: 87\n"
     ]
    }
   ],
   "source": [
    "# Write your python code here. Hint: use len(). \n",
    "print(\"conserved region length:\",\n",
    "len('SPEEEEKRRIRRERNKMAAAKCRNRRRELTDTLQAETDQLEDEKSALQTEIANLLKEKEKLEFILAAHRPACKIPDDLGFPEEMSVA'))\n"
   ]
  },
  {
   "cell_type": "markdown",
   "metadata": {},
   "source": [
    "* What are possible explanations for the longest conserved region?"
   ]
  },
  {
   "cell_type": "raw",
   "metadata": {},
   "source": [
    "This region may be a common structural or functional region of these proteins."
   ]
  },
  {
   "cell_type": "markdown",
   "metadata": {},
   "source": [
    "* What are the most conserved residues in the region?"
   ]
  },
  {
   "cell_type": "raw",
   "metadata": {},
   "source": [
    "N,A,R,L"
   ]
  },
  {
   "cell_type": "markdown",
   "metadata": {},
   "source": [
    "* What do conserved residues suggest?"
   ]
  },
  {
   "cell_type": "raw",
   "metadata": {},
   "source": [
    "These residues might be essential for the proper structure and function of these proteins."
   ]
  },
  {
   "cell_type": "markdown",
   "metadata": {},
   "source": [
    "* Coud you describe the difference between phylogentic and guide tree from the respective tabs?"
   ]
  },
  {
   "cell_type": "raw",
   "metadata": {},
   "source": [
    "Guide tree only shows in which order sequences are aligned one to another in progressive alignment. In this example, ATF1 and JUN aligns first, and then BACH1 aligns, and then add CEBPE ,finally aligns FOS\n",
    "A phylogenetic tree is calculated based on the multiple alignment that it receives. In this example, FOS and CEPEP is a pair that more phylogenetically close/related, ATF1 and JUN is another pair that more close/related, and then these two pairs and BACH1 join in the same phylogenetic tree. "
   ]
  },
  {
   "cell_type": "markdown",
   "metadata": {},
   "source": [
    "**4.** Run MSA using [MUSCLE](http://www.ebi.ac.uk/Tools/msa/muscle/) and [T-Coffee](http://tcoffee.crg.cat/apps/tcoffee/do:regular) with DEFAULT settings in different browser windows. Open results in [MView](https://www.ebi.ac.uk/Tools/msa/mview/) for [MUSCLE](http://www.ebi.ac.uk/Tools/msa/muscle/), [T-Coffee](http://tcoffee.crg.cat/apps/tcoffee/do:regular), and [Clustal](https://www.ebi.ac.uk/Tools/msa/clustalo/)), and compare the results.\n",
    "\n",
    "* Are the results different?"
   ]
  },
  {
   "cell_type": "raw",
   "metadata": {},
   "source": [
    "Yes!"
   ]
  },
  {
   "cell_type": "markdown",
   "metadata": {},
   "source": [
    "* Does one algorithm provide a better alignment than the others?"
   ]
  },
  {
   "cell_type": "raw",
   "metadata": {},
   "source": [
    "T-coffee provides a more accessible and accurate result than Clustal and MUSCLE."
   ]
  },
  {
   "cell_type": "markdown",
   "metadata": {},
   "source": [
    "## Task B\n",
    "\n",
    "The conserved domain name in the transcription factors above can be determined by mapping indices to a piece of text `zen_of_python.txt`. Use Google and/or Wikipedia to find key residues in the aligned domain."
   ]
  },
  {
   "cell_type": "markdown",
   "metadata": {},
   "source": [
    "1. Write your script in the cell below.\n",
    "2. Download `zen_of_python.txt` from `learn.bu.edu` or `scp` from `/project/bf527/jupyter/zen_python*`, and make sure to save it in the same directory as your jupyter notebook.\n",
    "3. Initialize an empty string to hold all the text in `zen_of_python.txt`.\n",
    "4. Open the text file and store contents in a string.  Loop through each line and strip each line of the ```\\n``` character, then add that line to the empty string. At the end you should have a single string with the entire file contents.\n",
    "5. Convert the string to upper case.\n",
    "6. Create an empty string variable to hold the answer.\n",
    "7. Loop through the indices listed below and concatenate the character in the text at each index position to the answer variable.\n",
    "8. Print the answer\n",
    "\n",
    "**Hint:** Task B is very similar to Homework #2, problem 2.2!\n",
    "\n",
    "Save a copy of this notebook and upload it to `learn.bu.edu` for credit."
   ]
  },
  {
   "cell_type": "code",
   "execution_count": 4,
   "metadata": {
    "tags": []
   },
   "outputs": [],
   "source": [
    "indices = [19,  239, 134, 726, 258, 410, 152, 663, 57, 67, 71, 558,\n",
    "           683, 812, 4,   303, 11,  344, 486, 79]"
   ]
  },
  {
   "cell_type": "code",
   "execution_count": 19,
   "metadata": {
    "tags": []
   },
   "outputs": [
    {
     "name": "stdout",
     "output_type": "stream",
     "text": [
      "BASIC LEUCINE ZIPPER\n"
     ]
    }
   ],
   "source": [
    "# Write your python3 code here\n",
    "# Initialize an empty string to hold all the text in zen_of_python.txt\n",
    "zen=''\n",
    "#Open the text file and store contents in a string.\n",
    "file = open('zen_of_python.txt','r')\n",
    "s=file.read()\n",
    "\n",
    "# Loop through each line and strip each line of the \\n character, then add that line to the empty string.\n",
    "for l in s:\n",
    "    zen+=l.strip('\\n').upper()#Convert the string to upper case.\n",
    "    \n",
    "#Create an empty string variable to hold the answer.\n",
    "answer=''\n",
    "\n",
    "#Loop through the indices listed below \n",
    "#and concatenate the character in the text at each index position to the answer variable.\n",
    "for i in indices:\n",
    "    answer+= zen[i]\n",
    "print(answer)"
   ]
  },
  {
   "cell_type": "code",
   "execution_count": null,
   "metadata": {},
   "outputs": [],
   "source": []
  }
 ],
 "metadata": {
  "anaconda-cloud": {},
  "kernelspec": {
   "display_name": "Python 3 (ipykernel)",
   "language": "python",
   "name": "python3"
  },
  "language_info": {
   "codemirror_mode": {
    "name": "ipython",
    "version": 3
   },
   "file_extension": ".py",
   "mimetype": "text/x-python",
   "name": "python",
   "nbconvert_exporter": "python",
   "pygments_lexer": "ipython3",
   "version": "3.9.13"
  }
 },
 "nbformat": 4,
 "nbformat_minor": 4
}
