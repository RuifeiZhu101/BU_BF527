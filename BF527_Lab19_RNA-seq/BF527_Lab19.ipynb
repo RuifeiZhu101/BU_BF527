{
 "cells": [
  {
   "cell_type": "markdown",
   "metadata": {},
   "source": [
    "# BF527 Lab 19\n",
    "## RNA-SEQ\n",
    "\n",
    "1. Copy the contents of `/project/bf527/jupyter/BF527_Lab19/` into your directory on `projectnb`.\n",
    "2. Go through the R script to get an idea of the different tasks it performs. \n",
    "3. Run the script using this command: \n",
    "`qsub -l s_vmem=4G -cwd -b y \"Rscript Lab_19_R_script.R\"` \n",
    "4. To view the job’s status, use: `qstat –u yourUserName`. It should change from waiting (qw) to running (r), to nothing once it is finished running. The script will save a file containing an image of a clustered heatmap of the normalized read counts to your `BF527_Lab19` folder.\n",
    "5. Find where the read count normalization begins in the R script. Comment this section out so that when you run it again this normalization isn't performed. Before running a second time, change line 50 from `make_heat_map(read_counts,'Heatmap_all_genes')` to `make_heat_map(read_counts,'Heatmap_all_genes_no_normalization')` to save the heatmap with a different name. \n",
    "6. **Based on the R code and heatmaps, what does the normalization section accomplish, and why is it important?**"
   ]
  },
  {
   "cell_type": "raw",
   "metadata": {},
   "source": [
    "The normalization section normalize the raw data by multiply the read counts of each sample with a normalization factor, which equals to (mean of total reads of all samples/total number of reads of sample[i])\n",
    "\n",
    "Normalization is important because it is the way to remove the effect of confounding variables and allows comparison within and across samples and genes.\n"
   ]
  },
  {
   "cell_type": "markdown",
   "metadata": {},
   "source": [
    "7. **Are the results from each method similar? Based on your analysis, how does the survivor group differ from the fatal group?**"
   ]
  },
  {
   "cell_type": "raw",
   "metadata": {},
   "source": [
    "They are not similar.\n",
    "\n",
    "In the order of the gene list in the file \"Lab_19_count_table.txt\", about the first two-thirds of the genes in the list are less expressed in the survivor group than in the fatal group, while the latter one-third of the genes in the list are more expressed in the survivor group than in the fatal group."
   ]
  },
  {
   "cell_type": "markdown",
   "metadata": {},
   "source": [
    "8.  **You decide to look at all genes DESeq called differentially expressed with a p value less than 0.001 and an absolute log2(fold change) > 2. How would you modify the script to do this?**"
   ]
  },
  {
   "cell_type": "markdown",
   "metadata": {},
   "source": [
    "change line 50 from `de_genes_deSEQ = de_results_DESeq[which(de_results_DESeq$padj < 0.05 & abs(de_results_DESeq$log2FoldChange) > 5),]\n",
    "` to `de_genes_deSEQ = de_results_DESeq[which(de_results_DESeq$padj < 0.001 & abs(de_results_DESeq$log2FoldChange) > 2),]\n",
    "` "
   ]
  },
  {
   "cell_type": "code",
   "execution_count": null,
   "metadata": {},
   "outputs": [],
   "source": []
  }
 ],
 "metadata": {
  "kernelspec": {
   "display_name": "Python 3 (ipykernel)",
   "language": "python",
   "name": "python3"
  },
  "language_info": {
   "codemirror_mode": {
    "name": "ipython",
    "version": 3
   },
   "file_extension": ".py",
   "mimetype": "text/x-python",
   "name": "python",
   "nbconvert_exporter": "python",
   "pygments_lexer": "ipython3",
   "version": "3.9.13"
  }
 },
 "nbformat": 4,
 "nbformat_minor": 4
}
